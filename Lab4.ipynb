{
 "cells": [
  {
   "cell_type": "markdown",
   "id": "3de89513",
   "metadata": {},
   "source": [
    "# Lab 4"
   ]
  },
  {
   "cell_type": "code",
   "execution_count": 19,
   "id": "aed9521a",
   "metadata": {},
   "outputs": [],
   "source": [
    "import nltk\n",
    "import string"
   ]
  },
  {
   "cell_type": "code",
   "execution_count": 10,
   "id": "f092c197",
   "metadata": {},
   "outputs": [],
   "source": [
    "f = open('en_US.blogs.txt', 'r')"
   ]
  },
  {
   "cell_type": "code",
   "execution_count": 11,
   "id": "a8d8fe9a",
   "metadata": {},
   "outputs": [],
   "source": [
    "blogs = f.read()"
   ]
  },
  {
   "cell_type": "markdown",
   "id": "5cc046f0",
   "metadata": {},
   "source": [
    "## Limpieza de datos"
   ]
  },
  {
   "cell_type": "markdown",
   "id": "bad627cb",
   "metadata": {},
   "source": [
    "### Tokenization"
   ]
  },
  {
   "cell_type": "code",
   "execution_count": 12,
   "id": "542c297b",
   "metadata": {},
   "outputs": [],
   "source": [
    "blogs = nltk.word_tokenize(blogs)"
   ]
  },
  {
   "cell_type": "code",
   "execution_count": 15,
   "id": "9ec976bf",
   "metadata": {},
   "outputs": [
    {
     "name": "stdout",
     "output_type": "stream",
     "text": [
      "In\n",
      "the\n",
      "years\n",
      "thereafter\n",
      ",\n",
      "most\n",
      "of\n",
      "the\n",
      "Oil\n",
      "fields\n"
     ]
    }
   ],
   "source": [
    "for i in range(10):\n",
    "    print(blogs[i])"
   ]
  },
  {
   "cell_type": "markdown",
   "id": "43ce3d0c",
   "metadata": {},
   "source": [
    "### Signos de puntuacion y caracteres"
   ]
  },
  {
   "cell_type": "code",
   "execution_count": 20,
   "id": "34b9d7eb",
   "metadata": {},
   "outputs": [],
   "source": [
    "blogs = [blog for blog in blogs if blog.isalpha()]"
   ]
  },
  {
   "cell_type": "code",
   "execution_count": 22,
   "id": "c3f65c6d",
   "metadata": {},
   "outputs": [
    {
     "name": "stdout",
     "output_type": "stream",
     "text": [
      "In\n",
      "the\n",
      "years\n",
      "thereafter\n",
      "most\n",
      "of\n",
      "the\n",
      "Oil\n",
      "fields\n",
      "and\n"
     ]
    }
   ],
   "source": [
    "for i in range(10):\n",
    "    print(blogs[i])"
   ]
  },
  {
   "cell_type": "markdown",
   "id": "4fb2b22a",
   "metadata": {},
   "source": [
    "### Palabras a minusculas"
   ]
  },
  {
   "cell_type": "code",
   "execution_count": 23,
   "id": "2c77b6e8",
   "metadata": {},
   "outputs": [],
   "source": [
    "blogs = [w.lower() for w in blogs]"
   ]
  },
  {
   "cell_type": "markdown",
   "id": "2d58a351",
   "metadata": {},
   "source": [
    "### Stopwords"
   ]
  },
  {
   "cell_type": "code",
   "execution_count": 24,
   "id": "772d58bb",
   "metadata": {},
   "outputs": [],
   "source": [
    "from nltk.corpus import stopwords"
   ]
  },
  {
   "cell_type": "code",
   "execution_count": 26,
   "id": "f43549d7",
   "metadata": {},
   "outputs": [],
   "source": [
    "stop_words = set(stopwords.words('english'))"
   ]
  },
  {
   "cell_type": "code",
   "execution_count": 27,
   "id": "646227e9",
   "metadata": {},
   "outputs": [],
   "source": [
    "blogs = [w for w in blogs if not w in stop_words]"
   ]
  },
  {
   "cell_type": "code",
   "execution_count": 28,
   "id": "be26a596",
   "metadata": {},
   "outputs": [
    {
     "name": "stdout",
     "output_type": "stream",
     "text": [
      "years\n",
      "thereafter\n",
      "oil\n",
      "fields\n",
      "platforms\n",
      "named\n",
      "pagan\n",
      "gods\n",
      "love\n",
      "brown\n",
      "chad\n",
      "awesome\n",
      "kids\n",
      "holding\n",
      "fort\n",
      "work\n",
      "later\n",
      "usual\n",
      "kids\n",
      "busy\n",
      "together\n",
      "playing\n",
      "skylander\n",
      "xbox\n",
      "together\n",
      "kyan\n",
      "cashed\n",
      "piggy\n",
      "bank\n",
      "wanted\n",
      "game\n",
      "bad\n",
      "used\n",
      "gift\n",
      "card\n"
     ]
    }
   ],
   "source": [
    "for i in range(35):\n",
    "    print(blogs[i])"
   ]
  },
  {
   "cell_type": "markdown",
   "id": "e25a931f",
   "metadata": {},
   "source": [
    "### Stemming"
   ]
  },
  {
   "cell_type": "code",
   "execution_count": 29,
   "id": "4ee5d6a4",
   "metadata": {},
   "outputs": [],
   "source": [
    "from nltk.stem.porter import PorterStemmer"
   ]
  },
  {
   "cell_type": "code",
   "execution_count": 30,
   "id": "076fbf3c",
   "metadata": {},
   "outputs": [],
   "source": [
    "porter = PorterStemmer()"
   ]
  },
  {
   "cell_type": "code",
   "execution_count": 31,
   "id": "f9736f22",
   "metadata": {},
   "outputs": [],
   "source": [
    "blogs = [porter.stem(word) for word in blogs]"
   ]
  },
  {
   "cell_type": "code",
   "execution_count": 32,
   "id": "c0b09241",
   "metadata": {},
   "outputs": [
    {
     "name": "stdout",
     "output_type": "stream",
     "text": [
      "year\n",
      "thereaft\n",
      "oil\n",
      "field\n",
      "platform\n",
      "name\n",
      "pagan\n",
      "god\n",
      "love\n",
      "brown\n",
      "chad\n",
      "awesom\n",
      "kid\n",
      "hold\n",
      "fort\n",
      "work\n",
      "later\n",
      "usual\n",
      "kid\n",
      "busi\n",
      "togeth\n",
      "play\n",
      "skyland\n",
      "xbox\n",
      "togeth\n",
      "kyan\n",
      "cash\n",
      "piggi\n",
      "bank\n",
      "want\n",
      "game\n",
      "bad\n",
      "use\n",
      "gift\n",
      "card\n"
     ]
    }
   ],
   "source": [
    "for i in range(35):\n",
    "    print(blogs[i])"
   ]
  },
  {
   "cell_type": "code",
   "execution_count": null,
   "id": "b64f58fd",
   "metadata": {},
   "outputs": [],
   "source": []
  }
 ],
 "metadata": {
  "kernelspec": {
   "display_name": "Python 3",
   "language": "python",
   "name": "python3"
  },
  "language_info": {
   "codemirror_mode": {
    "name": "ipython",
    "version": 3
   },
   "file_extension": ".py",
   "mimetype": "text/x-python",
   "name": "python",
   "nbconvert_exporter": "python",
   "pygments_lexer": "ipython3",
   "version": "3.8.8"
  }
 },
 "nbformat": 4,
 "nbformat_minor": 5
}
